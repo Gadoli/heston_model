{
  "nbformat": 4,
  "nbformat_minor": 0,
  "metadata": {
    "colab": {
      "provenance": [],
      "collapsed_sections": [
        "spWc8XQdjmmH"
      ],
      "authorship_tag": "ABX9TyPQeqs80XHFkb71PjHHmS/K"
    },
    "kernelspec": {
      "name": "python3",
      "display_name": "Python 3"
    },
    "language_info": {
      "name": "python"
    }
  },
  "cells": [
    {
      "cell_type": "markdown",
      "source": [
        "## Importation de librairie"
      ],
      "metadata": {
        "id": "aaoMs_PRW7L2"
      }
    },
    {
      "cell_type": "code",
      "source": [
        "import numpy as np\n",
        "from scipy.stats import norm\n",
        "from scipy.optimize import minimize\n",
        "from sklearn.linear_model import LinearRegression\n",
        "import yfinance as yf\n",
        "import matplotlib.pyplot as plt\n",
        "from datetime import datetime, timedelta"
      ],
      "metadata": {
        "id": "uj3TOne4W6nE"
      },
      "execution_count": null,
      "outputs": []
    },
    {
      "cell_type": "markdown",
      "source": [
        "## Fonctions utilitaires générales"
      ],
      "metadata": {
        "id": "p_69vtbWXGfr"
      }
    },
    {
      "cell_type": "code",
      "source": [
        "def plot_data(prices, ticker):\n",
        "    plt.figure(figsize=(10, 5))\n",
        "    plt.plot(prices.index, prices, label='Stock Prices')\n",
        "    plt.title(f'Historical Stock Prices for {ticker}')\n",
        "    plt.xlabel('Date')\n",
        "    plt.ylabel('Price')\n",
        "    plt.legend()\n",
        "    plt.grid(True)\n",
        "    plt.show()\n",
        "\n",
        "# Fetch historical data\n",
        "def fetch_data(ticker):\n",
        "    stock = yf.Ticker(ticker)\n",
        "    data = stock.history(period=\"1y\")  # one year of data by default\n",
        "    plot_data(data['Close'], ticker)\n",
        "    return data['Close']"
      ],
      "metadata": {
        "id": "t-_R4K2FXGP7"
      },
      "execution_count": null,
      "outputs": []
    },
    {
      "cell_type": "markdown",
      "source": [
        "## Fonctions utilitaires pour l'expérience utilisateur"
      ],
      "metadata": {
        "id": "5bRy3kg3XVE0"
      }
    },
    {
      "cell_type": "code",
      "source": [
        "def calculate_time_to_maturity(maturity_date):\n",
        "    \"\"\"Calculate the fraction of the year from today to the maturity date.\"\"\"\n",
        "    current_date = datetime.now()\n",
        "    maturity_date = datetime.strptime(maturity_date, \"%d/%m/%Y\")\n",
        "    days_to_maturity = (maturity_date - current_date).days\n",
        "    years_to_maturity = days_to_maturity / 365.25  # Including leap years\n",
        "    return max(0, years_to_maturity)  # Ensure non-negative time\n",
        "\n",
        "def calculate_maturity_date(years_to_maturity):\n",
        "    \"\"\"Calculate the maturity date from today given years to maturity.\"\"\"\n",
        "    current_date = datetime.now()\n",
        "    days_to_add = int(years_to_maturity * 365.25)  # Convert years to days, considering leap years\n",
        "    maturity_date = current_date + timedelta(days=days_to_add)\n",
        "    return maturity_date.strftime(\"%d/%m/%Y\")  # Return the date as a string in DD/MM/YYYY format\n",
        "\n",
        "def get_user_input(write_date = False):\n",
        "    \"\"\"Get user input for maturity date, strike price, and risk-free rate.\"\"\"\n",
        "    print(\"You can press enter at each input and get the default values\")\n",
        "    ticker_input = input(\"Enter the ticker corresponding in Yahoo Finance : \") or \"ORA.PA\"\n",
        "    if write_date:\n",
        "        maturity_input = input(\"Enter the maturity date (DD/MM/YYYY): \")\n",
        "        # Calculate the time to maturity\n",
        "        time_to_maturity = calculate_time_to_maturity(maturity_input)\n",
        "    else:\n",
        "        time_to_maturity = float(input(\"Enter the maturity date in year fraction: \") or \"1\")\n",
        "        maturity_input = calculate_maturity_date(time_to_maturity)\n",
        "    strike_input = float(input(\"Enter the strike price (K): \") or \"100\")\n",
        "    risk_free_rate_input = float(input(\"Enter the risk-free rate (r) as a percentage (default is set for France at a previous date): \") or \"3.461\") / 100\n",
        "\n",
        "\n",
        "\n",
        "    print(f\"\\nTicker: {ticker_input}\")\n",
        "    print(f\"Maturity date: {maturity_input}\")\n",
        "    print(f\"Time to maturity (in years): {time_to_maturity:.4f}\")\n",
        "    print(f\"Strike price: {strike_input}\")\n",
        "    print(f\"Risk-free rate: {risk_free_rate_input:.4%}\")\n",
        "\n",
        "    return ticker_input, time_to_maturity, strike_input, risk_free_rate_input"
      ],
      "metadata": {
        "id": "nWT2MH1xXhW2"
      },
      "execution_count": null,
      "outputs": []
    },
    {
      "cell_type": "markdown",
      "source": [
        "Appels aux fonctions  \n",
        "Paramètres par défaut:  \n",
        "ORA.PA  \n",
        "1  \n",
        "100  \n",
        "0.03461 (France 1 year risk free rate taken before)"
      ],
      "metadata": {
        "id": "hGyxi899X9JI"
      }
    },
    {
      "cell_type": "code",
      "source": [
        "ticker, T, K, r = get_user_input()\n",
        "\n",
        "prices = fetch_data(ticker)\n",
        "\n",
        "\n",
        "print(\"\\n\\n\")\n",
        "S = prices.iloc[-1]\n",
        "print(f\"Spot price = {S}\")\n",
        "\n",
        "sigma = np.std(prices)\n",
        "print(f\"Historical volatility = {sigma}\")\n",
        "print(\"\\n\\n\")"
      ],
      "metadata": {
        "colab": {
          "base_uri": "https://localhost:8080/",
          "height": 826
        },
        "id": "Kho2WXiMX86f",
        "outputId": "d9fac040-d638-45c4-a30b-300aefd9d77f"
      },
      "execution_count": null,
      "outputs": [
        {
          "output_type": "stream",
          "name": "stdout",
          "text": [
            "You can press enter at each input and get the default values\n",
            "Enter the ticker corresponding in Yahoo Finance : ACA.PA\n",
            "Enter the maturity date in year fraction: 0.42\n",
            "Enter the strike price (K): 42\n",
            "Enter the risk-free rate (r) as a percentage (default is set for France at a previous date): \n",
            "\n",
            "Ticker: ACA.PA\n",
            "Maturity date: 01/11/2024\n",
            "Time to maturity (in years): 0.4200\n",
            "Strike price: 42.0\n",
            "Risk-free rate: 3.4610%\n"
          ]
        },
        {
          "output_type": "display_data",
          "data": {
            "text/plain": [
              "<Figure size 1000x500 with 1 Axes>"
            ],
            "image/png": "[encoded data removed]"
          },
          "metadata": {}
        },
        {
          "output_type": "stream",
          "name": "stdout",
          "text": [
            "\n",
            "\n",
            "\n",
            "Spot price = 14.925000190734863\n",
            "Historical volatility = 1.2938144966968332\n",
            "\n",
            "\n",
            "\n"
          ]
        }
      ]
    },
    {
      "cell_type": "markdown",
      "source": [
        "## Fonctions de Black & Scholes"
      ],
      "metadata": {
        "id": "i2BddhctYc2j"
      }
    },
    {
      "cell_type": "code",
      "source": [
        "def black_scholes_call(S, K, T, r, sigma):\n",
        "    \"\"\"Calculate the Black-Scholes price for a European call option.\"\"\"\n",
        "    d1 = (np.log(S / K) + (r + 0.5 * sigma**2) * T) / (sigma * np.sqrt(T))\n",
        "    d2 = d1 - sigma * np.sqrt(T)\n",
        "    N_d1 = norm.cdf(d1)\n",
        "    N_d2 = norm.cdf(d2)\n",
        "    call_price = S * N_d1 - K * np.exp(-r * T) * N_d2\n",
        "\n",
        "    print(f\"d1 = {d1}\")\n",
        "    print(f\"d2 = {d2}\")\n",
        "    print(f\"N_d1 = {N_d1}\")\n",
        "    print(f\"N_d2 = {N_d2}\")\n",
        "    return call_price\n",
        "\n",
        "def black_scholes_put(S, K, T, r, sigma):\n",
        "    \"\"\"Calculate the Black-Scholes price for a European put option.\"\"\"\n",
        "    d1 = (np.log(S / K) + (r + 0.5 * sigma**2) * T) / (sigma * np.sqrt(T))\n",
        "    d2 = d1 - sigma * np.sqrt(T)\n",
        "    N_minus_d1 = norm.cdf(-d1)\n",
        "    N_minus_d2 = norm.cdf(-d2)\n",
        "    put_price = K * np.exp(-r * T) * N_minus_d2 - S * N_minus_d1\n",
        "\n",
        "    print(f\"d1 = {d1}\")\n",
        "    print(f\"d2 = {d2}\")\n",
        "    print(f\"N_minus_d1 = {N_minus_d1}\")\n",
        "    print(f\"N_minus_d2 = {N_minus_d2}\")\n",
        "    return put_price"
      ],
      "metadata": {
        "id": "rNUl0dLGYcp8"
      },
      "execution_count": null,
      "outputs": []
    },
    {
      "cell_type": "markdown",
      "source": [
        "Appels aux fonctions de Black & Scholes, utilisation des paramètres rentrés par l'utilisateur."
      ],
      "metadata": {
        "id": "ovUWUNl1YjsN"
      }
    },
    {
      "cell_type": "code",
      "source": [
        "call_price = black_scholes_call(S, K, T, r, sigma)\n",
        "put_price = black_scholes_put(S, K, T, r, sigma)\n",
        "\n",
        "print(\"B&S European Call Option Price: \", call_price)\n",
        "print(\"B&S European Put Option Price: \", put_price)"
      ],
      "metadata": {
        "colab": {
          "base_uri": "https://localhost:8080/"
        },
        "id": "Tmuvgt0pYiwV",
        "outputId": "076a8586-f8dd-4796-c352-0e7b9cb3c48e"
      },
      "execution_count": null,
      "outputs": [
        {
          "output_type": "stream",
          "name": "stdout",
          "text": [
            "d1 = -0.7973462877800318\n",
            "d2 = -1.6358339142733567\n",
            "N_d1 = 0.21262497229604066\n",
            "N_d2 = 0.05093717601468157\n",
            "d1 = -0.7973462877800318\n",
            "d2 = -1.6358339142733567\n",
            "N_minus_d1 = 0.7873750277039593\n",
            "N_minus_d2 = 0.9490628239853184\n",
            "B&S European Call Option Price:  1.0649396110249598\n",
            "B&S European Put Option Price:  27.533834920910593\n"
          ]
        }
      ]
    },
    {
      "cell_type": "markdown",
      "source": [
        "______________________________________________________________________________________________________________________\n",
        "# Modèle de Heston"
      ],
      "metadata": {
        "id": "A3xbvQIyYrp7"
      }
    },
    {
      "cell_type": "markdown",
      "source": [
        "## Récupération des différents paramètres utilisé par le modèle de Heston"
      ],
      "metadata": {
        "id": "PGbxPMevZMgE"
      }
    },
    {
      "cell_type": "markdown",
      "source": [
        "### Paramètres qui peuvent être récupéré ou calculé simplement"
      ],
      "metadata": {
        "id": "PTTgJuFyZym_"
      }
    },
    {
      "cell_type": "code",
      "source": [
        "\n",
        "# S0\n",
        "def get_initial_stock_price(prices):\n",
        "    # daily\n",
        "    return prices.iloc[-1]  # Latest closing price\n",
        "\n",
        "# V0\n",
        "def get_initial_variance(prices):\n",
        "    daily_returns = prices.pct_change().dropna()\n",
        "    variance = daily_returns.var()\n",
        "    return variance\n",
        "\n",
        "# r / mu - risk free rate - can be statically obtained or via an API\n",
        "\n",
        "# target theta\n",
        "def estimate_theta(historical_variances):\n",
        "    return np.mean(historical_variances)  # simple mean for the moment\n",
        "\n",
        "# rho - correlation between stock and variance\n",
        "def estimate_rho(historical_prices, historical_variances, W):\n",
        "    return np.corrcoef(historical_prices[W-1:].pct_change().dropna(), np.sqrt(historical_variances))[0, 1]\n",
        "\n",
        "print(\"\\nN.B. Nb of days is hardcoded and set to N=255 (function=determine_time_steps)\\n\")\n",
        "# N\n",
        "def determine_time_steps(T, step_size='daily'):\n",
        "    if step_size == 'daily':\n",
        "        return int(T * 255)  # Daily steps\n",
        "    elif step_size == 'monthly':\n",
        "        return int(T * 12)  # Monthly steps\n",
        "\n",
        "# M Number of Simulation Paths\n",
        "\n",
        "def calculate_historical_variances(prices, W):\n",
        "    \"\"\"Calculate daily variances from historical price data.\"\"\"\n",
        "    returns = prices.pct_change().dropna()  # daily returns\n",
        "    daily_variances = returns.rolling(window=W).var()  # 30-day rolling variance\n",
        "    clean_data = daily_variances[~np.isnan(daily_variances)]\n",
        "    return clean_data"
      ],
      "metadata": {
        "id": "qm5k4wdCZxY1",
        "colab": {
          "base_uri": "https://localhost:8080/"
        },
        "outputId": "30e6c27d-fd5b-407b-f0b9-46ad0e4c772a"
      },
      "execution_count": null,
      "outputs": [
        {
          "output_type": "stream",
          "name": "stdout",
          "text": [
            "\n",
            "N.B. Nb of days is hardcoded and set to N=255 (function=determine_time_steps)\n",
            "\n"
          ]
        }
      ]
    },
    {
      "cell_type": "markdown",
      "source": [
        "### Paramètres necéssitant une calibration, par méthode troncature complète"
      ],
      "metadata": {
        "id": "cDZYy0jhaDoN"
      }
    },
    {
      "cell_type": "code",
      "source": [
        "# kappa - Rate of Reversion - Calibration\n",
        "# simga - Variance - Calibration\n",
        "\n",
        "def simulate_variances(v0, kappa, theta, sigma, T, N):\n",
        "    \"\"\"\n",
        "    Simulate variance paths using the Euler-Maruyama method for the Heston model.\n",
        "\n",
        "    Parameters:\n",
        "    v0 : float\n",
        "        Initial variance.\n",
        "    kappa : float\n",
        "        Rate of mean reversion.\n",
        "    theta : float\n",
        "        Long-term mean variance.\n",
        "    sigma : float\n",
        "        Volatility of the variance process.\n",
        "    T : float\n",
        "        Total time to maturity or simulation length in years.\n",
        "    N : int\n",
        "        Number of steps in the simulation.\n",
        "\n",
        "    Returns:\n",
        "    np.ndarray\n",
        "        Simulated variance path.\n",
        "    \"\"\"\n",
        "    dt = T / N  # Time step\n",
        "\n",
        "    # Initialize the variance path array\n",
        "    variances = np.zeros(N + 1)\n",
        "    variances[0] = v0\n",
        "\n",
        "    # Generate random increments\n",
        "    dW = np.random.normal(0, 1, N) * np.sqrt(dt)\n",
        "\n",
        "    # Simulate the variance path\n",
        "    for t in range(1, N + 1):\n",
        "        # Apply the full truncation scheme to ensure non-negativity\n",
        "        current_variance = max(variances[t - 1], 0)\n",
        "        # Euler-Maruyama update for the variance\n",
        "        variances[t] = current_variance + kappa * (theta - current_variance) * dt + sigma * np.sqrt(current_variance) * \\\n",
        "                       dW[t - 1]\n",
        "        # Enforce non-negative variance\n",
        "        variances[t] = max(variances[t], 0)\n",
        "\n",
        "    return variances\n",
        "\n",
        "\n",
        "def objective_function(params, historical_variances, v0, theta, T, N):\n",
        "    kappa, sigma = params\n",
        "    L = len(historical_variances)\n",
        "    simulated_variances = simulate_variances(v0, kappa, theta, sigma, T, N)\n",
        "    M = len(simulated_variances)\n",
        "\n",
        "    # Trim the simulated variances to match the length of historical variances\n",
        "    if len(historical_variances) < len(simulated_variances):\n",
        "        simulated_variances = simulated_variances[-L:]\n",
        "    if len(historical_variances) > len(simulated_variances):\n",
        "        historical_variances = historical_variances[-M:]\n",
        "\n",
        "    # Calculate the sum of squared differences between historical and simulated variances\n",
        "    return np.sum((historical_variances - simulated_variances) ** 2)\n",
        "\n",
        "def calibrate_parameters(historical_variances, v0, theta, T, N):\n",
        "    initial_guess = [0.5, 0.2]  # Initial guesses for kappa and sigma\n",
        "\n",
        "    # Bounds obtained from The Heston Model and its Extensions in Matlab and C#\", by Rouah (2013)\n",
        "    bounds = [(0.01, 5.0), (0.01, 1.0)]  # Set reasonable bounds for kappa and sigma\n",
        "    result = minimize(objective_function, initial_guess, args=(historical_variances, v0, theta, T, N), bounds=bounds)\n",
        "    return result.x  # Returns the optimized kappa and sigma"
      ],
      "metadata": {
        "id": "ZNOzRwlmZugy"
      },
      "execution_count": null,
      "outputs": []
    },
    {
      "cell_type": "markdown",
      "source": [
        "### Récupération de tous les paramètres de Heston"
      ],
      "metadata": {
        "id": "6SH19UMQaOx9"
      }
    },
    {
      "cell_type": "code",
      "source": [
        "def heston_parameters(ticker, K, T, step_size='daily', M=1000, r=0.03461, W=30):\n",
        "    \"\"\"\n",
        "    Gather all necessary parameters for the Heston model and price an option.\n",
        "\n",
        "    Parameters:\n",
        "    - ticker: str, the stock ticker to fetch historical data for.\n",
        "    - K: float, strike price of the option.\n",
        "    - T: float, time to maturity in years.\n",
        "    - step_size: str, 'daily' or 'monthly' steps for simulation.\n",
        "    - M: int, number of paths for Monte Carlo simulation.\n",
        "    - r: float, static risk-free rate - check Central Bank\n",
        "    - W: int, rolling-window for historical variances\n",
        "\n",
        "    Returns:\n",
        "    - float, the estimated price of the European call option.\n",
        "    \"\"\"\n",
        "    # Fetch data\n",
        "    prices = fetch_data(ticker)\n",
        "    historical_variances = calculate_historical_variances(prices, W)\n",
        "\n",
        "    # Get initial stock price and variance\n",
        "    S0 = get_initial_stock_price(prices)\n",
        "    v0 = get_initial_variance(prices)\n",
        "    theta = estimate_theta(historical_variances)\n",
        "\n",
        "    # Calibrate kappa and sigma\n",
        "    N = determine_time_steps(T, step_size)\n",
        "    calibrated_params = calibrate_parameters(historical_variances, v0, theta, T, N)\n",
        "    kappa, sigma = calibrated_params\n",
        "\n",
        "    # Assume a typical value for rho\n",
        "    rho = estimate_rho(prices, historical_variances, W)\n",
        "\n",
        "    print(f\"S0 = {S0}\")\n",
        "    print(f\"v0 = {v0}\")\n",
        "    print(f\"K = {K}\")\n",
        "    print(f\"r = {r}\")\n",
        "    print(f\"kappa = {kappa}\")\n",
        "    print(f\"theta = {theta}\")\n",
        "    print(f\"sigma = {sigma}\")\n",
        "    print(f\"rho = {rho}\")\n",
        "    print(f\"T = {T}\")\n",
        "    print(f\"dt = {T/N}\")\n",
        "    print(f\"N = {N}\")\n",
        "\n",
        "    # Return parameters\n",
        "    return S0, v0, K, r, kappa, theta, sigma, rho, T, T/N, M"
      ],
      "metadata": {
        "id": "iexAAWLSbuRM"
      },
      "execution_count": null,
      "outputs": []
    },
    {
      "cell_type": "markdown",
      "source": [
        "On réutilise ici les paramètres données pour le modèle de Black & Scholes afin que l'utilisateur puisse comparer le résultat des deux modèles."
      ],
      "metadata": {
        "id": "QfNKr7MTj4XF"
      }
    },
    {
      "cell_type": "code",
      "source": [
        "# Example usage\n",
        "params = heston_parameters(ticker, K, T)"
      ],
      "metadata": {
        "colab": {
          "base_uri": "https://localhost:8080/",
          "height": 683
        },
        "id": "1p7xbg6Aj3pl",
        "outputId": "ec915a79-1f59-44da-c1ea-5cc96d629b46"
      },
      "execution_count": null,
      "outputs": [
        {
          "output_type": "display_data",
          "data": {
            "text/plain": [
              "<Figure size 1000x500 with 1 Axes>"
            ],
            "image/png": "[encoded data removed]"
          },
          "metadata": {}
        },
        {
          "output_type": "stream",
          "name": "stdout",
          "text": [
            "S0 = 14.925000190734863\n",
            "v0 = 0.00010715077900767049\n",
            "K = 42.0\n",
            "r = 0.03461\n",
            "kappa = 0.5000097072478855\n",
            "theta = 0.00011084188829900496\n",
            "sigma = 0.1999995886248406\n",
            "rho = -0.10562413363228952\n",
            "T = 0.42\n",
            "dt = 0.003925233644859813\n",
            "N = 107\n"
          ]
        }
      ]
    },
    {
      "cell_type": "markdown",
      "source": [
        "## Generation des chemins simulés par  Monte-Carlo"
      ],
      "metadata": {
        "id": "spWc8XQdjmmH"
      }
    },
    {
      "cell_type": "code",
      "execution_count": null,
      "metadata": {
        "id": "wiqA7dJ2W0g1"
      },
      "outputs": [],
      "source": [
        "def heston_model_full_truncation(S0, v0, mu, kappa, theta, sigma, rho, T, N, M):\n",
        "    \"\"\"\n",
        "    Generate Monte Carlo simulation paths for the Heston model using the full truncation method.\n",
        "\n",
        "    Parameters:\n",
        "    - S0: Initial stock price\n",
        "    - v0: Initial variance\n",
        "    - mu: Drift rate of the asset\n",
        "    - kappa: Rate of reversion\n",
        "    - theta: Long-term variance\n",
        "    - sigma: Volatility of variance\n",
        "    - rho: Correlation between stock and variance paths\n",
        "    - T: Time to maturity\n",
        "    - N: Number of time steps\n",
        "    - M: Number of paths\n",
        "\n",
        "    Returns:\n",
        "    - S: Simulated paths of stock price\n",
        "    - v: Simulated paths of variance\n",
        "    \"\"\"\n",
        "    dt = T / N\n",
        "    S = np.zeros((M, N+1))\n",
        "    v = np.zeros((M, N+1))\n",
        "    S[:, 0] = S0\n",
        "    v[:, 0] = v0\n",
        "\n",
        "    # Generate correlated random numbers\n",
        "    Z1 = np.random.normal(size=(M, N))\n",
        "    Z2 = np.random.normal(size=(M, N))\n",
        "    Z2 = rho * Z1 + np.sqrt(1 - rho**2) * Z2  # Correlated random numbers\n",
        "\n",
        "    for t in range(1, N+1):\n",
        "        # Full truncation for the variance process\n",
        "        v_prev = np.maximum(v[:, t-1], 0)\n",
        "        v[:, t] = v_prev + kappa * (theta - v_prev) * dt + sigma * np.sqrt(v_prev) * np.sqrt(dt) * Z2[:, t-1]\n",
        "        v[:, t] = np.maximum(v[:, t], 0)  # Ensure non-negative variance\n",
        "\n",
        "        # Stock price process\n",
        "        S[:, t] = S[:, t-1] * np.exp((mu - 0.5 * v_prev) * dt + np.sqrt(v_prev) * np.sqrt(dt) * Z1[:, t-1])\n",
        "\n",
        "    return S, v"
      ]
    },
    {
      "cell_type": "markdown",
      "source": [
        "## Algorithme du modèle de Heston"
      ],
      "metadata": {
        "id": "YuzzC_F-lTIx"
      }
    },
    {
      "cell_type": "code",
      "source": [
        "def heston_option_pricing(S0, v0, K, r, kappa, theta, sigma, rho, T, dt, M, option_type='call'):\n",
        "    \"\"\"\n",
        "    Calculate the price of a European option (call or put) using the Heston model.\n",
        "\n",
        "    Parameters:\n",
        "    - S0: Initial stock price\n",
        "    - v0: Initial variance\n",
        "    - K: Strike price\n",
        "    - r: Risk-free interest rate\n",
        "    - kappa: Rate of reversion\n",
        "    - theta: Long-term variance\n",
        "    - sigma: Volatility of variance\n",
        "    - rho: Correlation between stock and variance paths\n",
        "    - T: Time to maturity\n",
        "    - dt: Time step\n",
        "    - M: Number of paths\n",
        "    - option_type: Type of the option ('call' or 'put')\n",
        "\n",
        "    Returns:\n",
        "    - float: Estimated price of the option\n",
        "    \"\"\"\n",
        "    N = int(T / dt)\n",
        "    S, v = heston_model_full_truncation(S0, v0, r, kappa, theta, sigma, rho, T, N, M)\n",
        "\n",
        "    # Determine the payoff based on option type\n",
        "    if option_type.lower() == 'call':\n",
        "        payoffs = np.maximum(S[:, -1] - K, 0)\n",
        "    elif option_type.lower() == 'put':\n",
        "        payoffs = np.maximum(K - S[:, -1], 0)\n",
        "    else:\n",
        "        raise ValueError(\"Invalid option type specified. Use 'call' or 'put'.\")\n",
        "\n",
        "    # Discount payoffs to present value\n",
        "    discounted_payoff = np.exp(-r * T) * payoffs\n",
        "\n",
        "    # Calculate the option price as the average of discounted payoffs\n",
        "    option_price = np.mean(discounted_payoff)\n",
        "\n",
        "    return option_price"
      ],
      "metadata": {
        "id": "Y79mxYs1lQ3p"
      },
      "execution_count": null,
      "outputs": []
    },
    {
      "cell_type": "markdown",
      "source": [
        "### calculs"
      ],
      "metadata": {
        "id": "xILV_eHElZQ4"
      }
    },
    {
      "cell_type": "code",
      "source": [
        "# Calculate the option price\n",
        "option_price_call = heston_option_pricing(*params)\n",
        "option_price_put = heston_option_pricing(*params, 'put')\n",
        "print(\"Heston model - European call option:\", option_price_call)\n",
        "print(\"Heston model - European put option:\", option_price_put)"
      ],
      "metadata": {
        "id": "QdrwNXJ3lZ95",
        "colab": {
          "base_uri": "https://localhost:8080/"
        },
        "outputId": "5cdfed56-1a81-49e3-fa1e-9d21354d9d30"
      },
      "execution_count": null,
      "outputs": [
        {
          "output_type": "stream",
          "name": "stdout",
          "text": [
            "Heston model - European call option: 0.0\n",
            "Heston model - European put option: 26.469558301453187\n"
          ]
        }
      ]
    }
  ]
}